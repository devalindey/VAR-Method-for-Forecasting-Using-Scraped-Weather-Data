{
 "cells": [
  {
   "cell_type": "markdown",
   "metadata": {},
   "source": [
    "# Using Vector Autoregression (VAR) Method to Forecast with Scraped Data from The Weather Channel"
   ]
  },
  {
   "cell_type": "markdown",
   "metadata": {},
   "source": [
    "We will first scrape some weather data off The Weather Channel website. I saved the required webpage as a .html file for future reference. After that, we will modify the dataset a bit and split it. We will use the VAR method to predict data. We will then evaluate the model by calculating the RMSE of each feature. P.S. Only a tiny bit of data could be scraped from the website. We will treat this project more like an experiment. This is a demonstration of an approach that can also be implemented onto larger datasets."
   ]
  },
  {
   "cell_type": "markdown",
   "metadata": {},
   "source": [
    "### Importing the libraries & packages"
   ]
  },
  {
   "cell_type": "code",
   "execution_count": 1,
   "metadata": {},
   "outputs": [],
   "source": [
    "from selenium import webdriver\n",
    "from bs4 import BeautifulSoup\n",
    "import pandas as pd\n",
    "import matplotlib.pyplot as plt\n",
    "from statsmodels.tsa.stattools import adfuller\n",
    "from statsmodels.tsa.vector_ar.var_model import VAR\n",
    "import math\n",
    "from sklearn.metrics import mean_squared_error\n",
    "import warnings\n",
    "warnings.filterwarnings('ignore')"
   ]
  },
  {
   "cell_type": "markdown",
   "metadata": {},
   "source": [
    "### Loading the Google Chrome Web Driver & importing a local HTML file"
   ]
  },
  {
   "cell_type": "code",
   "execution_count": 2,
   "metadata": {},
   "outputs": [],
   "source": [
    "driver = webdriver.Chrome('chromedriver.exe') # This can also be downloaded from https://chromedriver.chromium.org/downloads\n",
    "driver.get('file:///C:/Users/daved/Desktop/ML/Projects/Scrape/Forecast.html') # This can be replace with the web URL as well\n",
    "content = driver.page_source\n",
    "soup = BeautifulSoup(content)\n",
    "table = soup.find_all('table', {'class':'twc-table'})"
   ]
  },
  {
   "cell_type": "markdown",
   "metadata": {},
   "source": [
    "### Scraping the Data"
   ]
  },
  {
   "cell_type": "code",
   "execution_count": 3,
   "metadata": {},
   "outputs": [],
   "source": [
    "l = []\n",
    "for items in table:\n",
    " for i in range(len(items.find_all('tr'))-1):\n",
    "  d = {}  \n",
    "  d['Date_Time'] = items.find_all('span', {'class':'dsx-date'})[i].text\n",
    "  d['Temperature'] = items.find_all('td', {'class':'temp'})[i].text\n",
    "  d['Feels'] = items.find_all('td', {'class':'feels'})[i].text\n",
    "  d['Precipitation'] = items.find_all('td', {'class':'precip'})[i].text\n",
    "  d['Humidity'] = items.find_all('td', {'class':'humidity'})[i].text\n",
    "  d['Wind'] = items.find_all('td', {'class':'wind'})[i].text\n",
    "  l.append(d)"
   ]
  },
  {
   "cell_type": "markdown",
   "metadata": {},
   "source": [
    "### Creating the dataframe, performing some data modification/cleaning & exporting it as a .CSV dataset"
   ]
  },
  {
   "cell_type": "code",
   "execution_count": 4,
   "metadata": {},
   "outputs": [
    {
     "data": {
      "text/html": [
       "<div>\n",
       "<style scoped>\n",
       "    .dataframe tbody tr th:only-of-type {\n",
       "        vertical-align: middle;\n",
       "    }\n",
       "\n",
       "    .dataframe tbody tr th {\n",
       "        vertical-align: top;\n",
       "    }\n",
       "\n",
       "    .dataframe thead th {\n",
       "        text-align: right;\n",
       "    }\n",
       "</style>\n",
       "<table border=\"1\" class=\"dataframe\">\n",
       "  <thead>\n",
       "    <tr style=\"text-align: right;\">\n",
       "      <th></th>\n",
       "      <th>Date_Time</th>\n",
       "      <th>Temperature</th>\n",
       "      <th>Feels</th>\n",
       "      <th>Precipitation</th>\n",
       "      <th>Humidity</th>\n",
       "      <th>Wind Speed</th>\n",
       "    </tr>\n",
       "  </thead>\n",
       "  <tbody>\n",
       "    <tr>\n",
       "      <th>0</th>\n",
       "      <td>12-11-2019 15:45</td>\n",
       "      <td>28</td>\n",
       "      <td>30</td>\n",
       "      <td>0</td>\n",
       "      <td>62</td>\n",
       "      <td>7</td>\n",
       "    </tr>\n",
       "    <tr>\n",
       "      <th>1</th>\n",
       "      <td>12-11-2019 16:00</td>\n",
       "      <td>28</td>\n",
       "      <td>30</td>\n",
       "      <td>0</td>\n",
       "      <td>63</td>\n",
       "      <td>7</td>\n",
       "    </tr>\n",
       "    <tr>\n",
       "      <th>2</th>\n",
       "      <td>12-11-2019 17:00</td>\n",
       "      <td>26</td>\n",
       "      <td>28</td>\n",
       "      <td>0</td>\n",
       "      <td>68</td>\n",
       "      <td>5</td>\n",
       "    </tr>\n",
       "    <tr>\n",
       "      <th>3</th>\n",
       "      <td>12-11-2019 18:00</td>\n",
       "      <td>25</td>\n",
       "      <td>25</td>\n",
       "      <td>0</td>\n",
       "      <td>71</td>\n",
       "      <td>4</td>\n",
       "    </tr>\n",
       "    <tr>\n",
       "      <th>4</th>\n",
       "      <td>12-11-2019 19:00</td>\n",
       "      <td>25</td>\n",
       "      <td>25</td>\n",
       "      <td>0</td>\n",
       "      <td>74</td>\n",
       "      <td>3</td>\n",
       "    </tr>\n",
       "  </tbody>\n",
       "</table>\n",
       "</div>"
      ],
      "text/plain": [
       "          Date_Time Temperature Feels Precipitation Humidity Wind Speed\n",
       "0  12-11-2019 15:45          28    30             0       62          7\n",
       "1  12-11-2019 16:00          28    30             0       63          7\n",
       "2  12-11-2019 17:00          26    28             0       68          5\n",
       "3  12-11-2019 18:00          25    25             0       71          4\n",
       "4  12-11-2019 19:00          25    25             0       74          3"
      ]
     },
     "execution_count": 4,
     "metadata": {},
     "output_type": "execute_result"
    }
   ],
   "source": [
    "df = pd.DataFrame(l)\n",
    "df2 = df['Wind'].str.split(' ', n = 1, expand = True)\n",
    "df2[1] = df2[1].str.replace(r'\\D', '')\n",
    "df['Wind Speed'] = df2[1]\n",
    "df['Temperature'] = df['Temperature'].str.replace(r'\\D', '')\n",
    "df['Feels'] = df['Feels'].str.replace(r'\\D', '')\n",
    "df['Precipitation'] = df['Precipitation'].str.replace(r'\\D', '')\n",
    "df['Humidity'] = df['Humidity'].str.replace(r'\\D', '')\n",
    "df = df.drop(['Wind'], axis = 1)\n",
    "df3 = df['Date_Time']\n",
    "df3.iloc[0:9, ] = '12-11-2019 ' + df3.iloc[0:9, ].astype(str)\n",
    "df3.iloc[9:33, ] = '13-11-2019 ' + df3.iloc[9:33, ].astype(str)\n",
    "df3.iloc[33:48, ] = '14-11-2019 ' + df3.iloc[33:48, ].astype(str)\n",
    "df.to_csv('Weather Data.csv')\n",
    "df.head()"
   ]
  },
  {
   "cell_type": "markdown",
   "metadata": {},
   "source": [
    "### Date_Time column is an object and we need to change it to datetime index"
   ]
  },
  {
   "cell_type": "code",
   "execution_count": 5,
   "metadata": {},
   "outputs": [
    {
     "data": {
      "text/plain": [
       "Temperature      object\n",
       "Feels            object\n",
       "Precipitation    object\n",
       "Humidity         object\n",
       "Wind Speed       object\n",
       "dtype: object"
      ]
     },
     "execution_count": 5,
     "metadata": {},
     "output_type": "execute_result"
    }
   ],
   "source": [
    "df['Date_Time'] = pd.to_datetime(df.Date_Time , format = '%d-%m-%Y %H:%M')\n",
    "data = df.drop(['Date_Time'], axis=1)\n",
    "data.index = df.Date_Time\n",
    "data.dtypes"
   ]
  },
  {
   "cell_type": "markdown",
   "metadata": {},
   "source": [
    "### Visualizing the features"
   ]
  },
  {
   "cell_type": "code",
   "execution_count": 6,
   "metadata": {},
   "outputs": [
    {
     "data": {
      "image/png": "[encoded data removed]",
      "text/plain": [
       "<Figure size 1152x576 with 1 Axes>"
      ]
     },
     "metadata": {
      "needs_background": "light"
     },
     "output_type": "display_data"
    }
   ],
   "source": [
    "data.iloc[:, 0:5].astype(int).plot(figsize = (16, 8))\n",
    "plt.legend()\n",
    "plt.show()"
   ]
  },
  {
   "cell_type": "markdown",
   "metadata": {},
   "source": [
    "### Augmented Dickey Fuller Test fto detect stationarity in the Time Series"
   ]
  },
  {
   "cell_type": "markdown",
   "metadata": {},
   "source": [
    "The null hypothesis of the test is that the time series can be represented by a unit root, that it is not stationary (has some time-dependent structure). The alternate hypothesis (rejecting the null hypothesis) is that the time series is stationary.\n",
    "\n",
    "##### Null Hypothesis (H0): \n",
    "If failed to be rejected, it suggests the time series has a unit root, meaning it is non-stationary. It has some time dependent structure.\n",
    "\n",
    "##### Alternate Hypothesis (H1): \n",
    "The null hypothesis is rejected; it suggests the time series does not have a unit root, meaning it is stationary. It does not have time-dependent structure.\n",
    "\n",
    "\n",
    "We interpret this result using the p-value from the test. A p-value below a threshold (such as 5% or 1%) suggests we reject the null hypothesis (stationary), otherwise a p-value above the threshold suggests we fail to reject the null hypothesis (non-stationary).\n",
    "\n",
    "#### p-value > 0.05: \n",
    "Fail to reject the null hypothesis (H0), the data has a unit root and is non-stationary.\n",
    "\n",
    "#### p-value <= 0.05: \n",
    "Reject the null hypothesis (H0), the data does not have a unit root and is stationary."
   ]
  },
  {
   "cell_type": "code",
   "execution_count": 7,
   "metadata": {},
   "outputs": [
    {
     "name": "stdout",
     "output_type": "stream",
     "text": [
      "\u001b[1m Results for Temperature \u001b[0m\n",
      "ADF Statistic: -3.144699\n",
      "p-value: 0.023417\n",
      "Critical Values:\n",
      "\t1%: -3.585\n",
      "\t5%: -2.928\n",
      "\t10%: -2.602\n"
     ]
    }
   ],
   "source": [
    "ADF_Temp = data['Temperature'].values.astype(int)\n",
    "result = adfuller(ADF_Temp)\n",
    "print('\\033[1m Results for Temperature \\033[0m')\n",
    "print('ADF Statistic: %f' % result[0])\n",
    "print('p-value: %f' % result[1])\n",
    "print('Critical Values:')\n",
    "for key, value in result[4].items():\n",
    "    print('\\t%s: %.3f' % (key, value))"
   ]
  },
  {
   "cell_type": "code",
   "execution_count": 8,
   "metadata": {},
   "outputs": [
    {
     "name": "stdout",
     "output_type": "stream",
     "text": [
      "\u001b[1m Results for Wind Speed \u001b[0m\n",
      "ADF Statistic: -1.968003\n",
      "p-value: 0.300776\n",
      "Critical Values:\n",
      "\t1%: -3.585\n",
      "\t5%: -2.928\n",
      "\t10%: -2.602\n"
     ]
    }
   ],
   "source": [
    "ADF_Wnsp = data['Wind Speed'].values.astype(int)\n",
    "result = adfuller(ADF_Wnsp)\n",
    "print('\\033[1m Results for Wind Speed \\033[0m')\n",
    "print('ADF Statistic: %f' % result[0])\n",
    "print('p-value: %f' % result[1])\n",
    "print('Critical Values:')\n",
    "for key, value in result[4].items():\n",
    "    print('\\t%s: %.3f' % (key, value))"
   ]
  },
  {
   "cell_type": "code",
   "execution_count": 9,
   "metadata": {},
   "outputs": [
    {
     "name": "stdout",
     "output_type": "stream",
     "text": [
      "\u001b[1m Results for Feels \u001b[0m\n",
      "ADF Statistic: -3.280583\n",
      "p-value: 0.015769\n",
      "Critical Values:\n",
      "\t1%: -3.585\n",
      "\t5%: -2.928\n",
      "\t10%: -2.602\n"
     ]
    }
   ],
   "source": [
    "ADF_Feel = data['Feels'].values.astype(int)\n",
    "result = adfuller(ADF_Feel)\n",
    "print('\\033[1m Results for Feels \\033[0m')\n",
    "print('ADF Statistic: %f' % result[0])\n",
    "print('p-value: %f' % result[1])\n",
    "print('Critical Values:')\n",
    "for key, value in result[4].items():\n",
    "    print('\\t%s: %.3f' % (key, value))"
   ]
  },
  {
   "cell_type": "code",
   "execution_count": 10,
   "metadata": {},
   "outputs": [
    {
     "name": "stdout",
     "output_type": "stream",
     "text": [
      "\u001b[1m Results for Precipitation \u001b[0m\n",
      "ADF Statistic: -2.071246\n",
      "p-value: 0.256233\n",
      "Critical Values:\n",
      "\t1%: -3.578\n",
      "\t5%: -2.925\n",
      "\t10%: -2.601\n"
     ]
    }
   ],
   "source": [
    "ADF_Prcp = data['Precipitation'].values.astype(int)\n",
    "result = adfuller(ADF_Prcp)\n",
    "print('\\033[1m Results for Precipitation \\033[0m')\n",
    "print('ADF Statistic: %f' % result[0])\n",
    "print('p-value: %f' % result[1])\n",
    "print('Critical Values:')\n",
    "for key, value in result[4].items():\n",
    "    print('\\t%s: %.3f' % (key, value))"
   ]
  },
  {
   "cell_type": "code",
   "execution_count": 11,
   "metadata": {},
   "outputs": [
    {
     "name": "stdout",
     "output_type": "stream",
     "text": [
      "\u001b[1m Results for Humidity \u001b[0m\n",
      "ADF Statistic: -3.585099\n",
      "p-value: 0.006052\n",
      "Critical Values:\n",
      "\t1%: -3.581\n",
      "\t5%: -2.927\n",
      "\t10%: -2.602\n"
     ]
    }
   ],
   "source": [
    "ADF_Hmdt = data['Humidity'].values.astype(int)\n",
    "result = adfuller(ADF_Hmdt)\n",
    "print('\\033[1m Results for Humidity \\033[0m')\n",
    "print('ADF Statistic: %f' % result[0])\n",
    "print('p-value: %f' % result[1])\n",
    "print('Critical Values:')\n",
    "for key, value in result[4].items():\n",
    "    print('\\t%s: %.3f' % (key, value))"
   ]
  },
  {
   "cell_type": "markdown",
   "metadata": {},
   "source": [
    "### Creating the Training and Validation set"
   ]
  },
  {
   "cell_type": "code",
   "execution_count": 12,
   "metadata": {},
   "outputs": [],
   "source": [
    "train = data[:int(0.8*(len(data)))]\n",
    "valid = data[int(0.8*(len(data))):]"
   ]
  },
  {
   "cell_type": "code",
   "execution_count": 13,
   "metadata": {},
   "outputs": [
    {
     "data": {
      "text/html": [
       "<div>\n",
       "<style scoped>\n",
       "    .dataframe tbody tr th:only-of-type {\n",
       "        vertical-align: middle;\n",
       "    }\n",
       "\n",
       "    .dataframe tbody tr th {\n",
       "        vertical-align: top;\n",
       "    }\n",
       "\n",
       "    .dataframe thead th {\n",
       "        text-align: right;\n",
       "    }\n",
       "</style>\n",
       "<table border=\"1\" class=\"dataframe\">\n",
       "  <thead>\n",
       "    <tr style=\"text-align: right;\">\n",
       "      <th></th>\n",
       "      <th>Temperature</th>\n",
       "      <th>Feels</th>\n",
       "      <th>Precipitation</th>\n",
       "      <th>Humidity</th>\n",
       "      <th>Wind Speed</th>\n",
       "    </tr>\n",
       "    <tr>\n",
       "      <th>Date_Time</th>\n",
       "      <th></th>\n",
       "      <th></th>\n",
       "      <th></th>\n",
       "      <th></th>\n",
       "      <th></th>\n",
       "    </tr>\n",
       "  </thead>\n",
       "  <tbody>\n",
       "    <tr>\n",
       "      <th>2019-11-12 15:45:00</th>\n",
       "      <td>28</td>\n",
       "      <td>30</td>\n",
       "      <td>0</td>\n",
       "      <td>62</td>\n",
       "      <td>7</td>\n",
       "    </tr>\n",
       "    <tr>\n",
       "      <th>2019-11-12 16:00:00</th>\n",
       "      <td>28</td>\n",
       "      <td>30</td>\n",
       "      <td>0</td>\n",
       "      <td>63</td>\n",
       "      <td>7</td>\n",
       "    </tr>\n",
       "    <tr>\n",
       "      <th>2019-11-12 17:00:00</th>\n",
       "      <td>26</td>\n",
       "      <td>28</td>\n",
       "      <td>0</td>\n",
       "      <td>68</td>\n",
       "      <td>5</td>\n",
       "    </tr>\n",
       "    <tr>\n",
       "      <th>2019-11-12 18:00:00</th>\n",
       "      <td>25</td>\n",
       "      <td>25</td>\n",
       "      <td>0</td>\n",
       "      <td>71</td>\n",
       "      <td>4</td>\n",
       "    </tr>\n",
       "    <tr>\n",
       "      <th>2019-11-12 19:00:00</th>\n",
       "      <td>25</td>\n",
       "      <td>25</td>\n",
       "      <td>0</td>\n",
       "      <td>74</td>\n",
       "      <td>3</td>\n",
       "    </tr>\n",
       "  </tbody>\n",
       "</table>\n",
       "</div>"
      ],
      "text/plain": [
       "                    Temperature Feels Precipitation Humidity Wind Speed\n",
       "Date_Time                                                              \n",
       "2019-11-12 15:45:00          28    30             0       62          7\n",
       "2019-11-12 16:00:00          28    30             0       63          7\n",
       "2019-11-12 17:00:00          26    28             0       68          5\n",
       "2019-11-12 18:00:00          25    25             0       71          4\n",
       "2019-11-12 19:00:00          25    25             0       74          3"
      ]
     },
     "execution_count": 13,
     "metadata": {},
     "output_type": "execute_result"
    }
   ],
   "source": [
    "train.head()"
   ]
  },
  {
   "cell_type": "code",
   "execution_count": 14,
   "metadata": {},
   "outputs": [
    {
     "data": {
      "text/html": [
       "<div>\n",
       "<style scoped>\n",
       "    .dataframe tbody tr th:only-of-type {\n",
       "        vertical-align: middle;\n",
       "    }\n",
       "\n",
       "    .dataframe tbody tr th {\n",
       "        vertical-align: top;\n",
       "    }\n",
       "\n",
       "    .dataframe thead th {\n",
       "        text-align: right;\n",
       "    }\n",
       "</style>\n",
       "<table border=\"1\" class=\"dataframe\">\n",
       "  <thead>\n",
       "    <tr style=\"text-align: right;\">\n",
       "      <th></th>\n",
       "      <th>Temperature</th>\n",
       "      <th>Feels</th>\n",
       "      <th>Precipitation</th>\n",
       "      <th>Humidity</th>\n",
       "      <th>Wind Speed</th>\n",
       "    </tr>\n",
       "    <tr>\n",
       "      <th>Date_Time</th>\n",
       "      <th></th>\n",
       "      <th></th>\n",
       "      <th></th>\n",
       "      <th></th>\n",
       "      <th></th>\n",
       "    </tr>\n",
       "  </thead>\n",
       "  <tbody>\n",
       "    <tr>\n",
       "      <th>2019-11-14 05:30:00</th>\n",
       "      <td>20</td>\n",
       "      <td>20</td>\n",
       "      <td>5</td>\n",
       "      <td>90</td>\n",
       "      <td>3</td>\n",
       "    </tr>\n",
       "    <tr>\n",
       "      <th>2019-11-14 06:30:00</th>\n",
       "      <td>20</td>\n",
       "      <td>20</td>\n",
       "      <td>5</td>\n",
       "      <td>92</td>\n",
       "      <td>4</td>\n",
       "    </tr>\n",
       "    <tr>\n",
       "      <th>2019-11-14 07:30:00</th>\n",
       "      <td>21</td>\n",
       "      <td>22</td>\n",
       "      <td>5</td>\n",
       "      <td>87</td>\n",
       "      <td>7</td>\n",
       "    </tr>\n",
       "    <tr>\n",
       "      <th>2019-11-14 08:30:00</th>\n",
       "      <td>24</td>\n",
       "      <td>24</td>\n",
       "      <td>5</td>\n",
       "      <td>80</td>\n",
       "      <td>8</td>\n",
       "    </tr>\n",
       "    <tr>\n",
       "      <th>2019-11-14 09:30:00</th>\n",
       "      <td>25</td>\n",
       "      <td>28</td>\n",
       "      <td>0</td>\n",
       "      <td>74</td>\n",
       "      <td>9</td>\n",
       "    </tr>\n",
       "  </tbody>\n",
       "</table>\n",
       "</div>"
      ],
      "text/plain": [
       "                    Temperature Feels Precipitation Humidity Wind Speed\n",
       "Date_Time                                                              \n",
       "2019-11-14 05:30:00          20    20             5       90          3\n",
       "2019-11-14 06:30:00          20    20             5       92          4\n",
       "2019-11-14 07:30:00          21    22             5       87          7\n",
       "2019-11-14 08:30:00          24    24             5       80          8\n",
       "2019-11-14 09:30:00          25    28             0       74          9"
      ]
     },
     "execution_count": 14,
     "metadata": {},
     "output_type": "execute_result"
    }
   ],
   "source": [
    "valid.head()"
   ]
  },
  {
   "cell_type": "markdown",
   "metadata": {},
   "source": [
    "### Fitting a VAR model on the Training Set"
   ]
  },
  {
   "cell_type": "code",
   "execution_count": 15,
   "metadata": {},
   "outputs": [],
   "source": [
    "model = VAR(endog = train.astype(int))\n",
    "model_fit = model.fit()\n",
    "prediction = model_fit.forecast(model_fit.y, steps=len(valid))"
   ]
  },
  {
   "cell_type": "markdown",
   "metadata": {},
   "source": [
    "### Converting Predictions to a Dataframe"
   ]
  },
  {
   "cell_type": "code",
   "execution_count": 16,
   "metadata": {},
   "outputs": [
    {
     "data": {
      "text/html": [
       "<div>\n",
       "<style scoped>\n",
       "    .dataframe tbody tr th:only-of-type {\n",
       "        vertical-align: middle;\n",
       "    }\n",
       "\n",
       "    .dataframe tbody tr th {\n",
       "        vertical-align: top;\n",
       "    }\n",
       "\n",
       "    .dataframe thead tr th {\n",
       "        text-align: left;\n",
       "    }\n",
       "</style>\n",
       "<table border=\"1\" class=\"dataframe\">\n",
       "  <thead>\n",
       "    <tr>\n",
       "      <th></th>\n",
       "      <th>Temperature</th>\n",
       "      <th>Feels</th>\n",
       "      <th>Precipitation</th>\n",
       "      <th>Humidity</th>\n",
       "      <th>Wind Speed</th>\n",
       "    </tr>\n",
       "  </thead>\n",
       "  <tbody>\n",
       "    <tr>\n",
       "      <th>0</th>\n",
       "      <td>20.4671</td>\n",
       "      <td>20.9925</td>\n",
       "      <td>4.83062</td>\n",
       "      <td>89.2487</td>\n",
       "      <td>3.33391</td>\n",
       "    </tr>\n",
       "    <tr>\n",
       "      <th>1</th>\n",
       "      <td>21.05</td>\n",
       "      <td>21.8224</td>\n",
       "      <td>4.59798</td>\n",
       "      <td>87.2351</td>\n",
       "      <td>3.79314</td>\n",
       "    </tr>\n",
       "    <tr>\n",
       "      <th>2</th>\n",
       "      <td>21.6519</td>\n",
       "      <td>22.5919</td>\n",
       "      <td>4.30741</td>\n",
       "      <td>85.0656</td>\n",
       "      <td>4.2177</td>\n",
       "    </tr>\n",
       "    <tr>\n",
       "      <th>3</th>\n",
       "      <td>22.2333</td>\n",
       "      <td>23.309</td>\n",
       "      <td>3.9861</td>\n",
       "      <td>82.9704</td>\n",
       "      <td>4.57772</td>\n",
       "    </tr>\n",
       "    <tr>\n",
       "      <th>4</th>\n",
       "      <td>22.7693</td>\n",
       "      <td>23.9519</td>\n",
       "      <td>3.66665</td>\n",
       "      <td>81.0354</td>\n",
       "      <td>4.86512</td>\n",
       "    </tr>\n",
       "  </tbody>\n",
       "</table>\n",
       "</div>"
      ],
      "text/plain": [
       "  Temperature    Feels Precipitation Humidity Wind Speed\n",
       "0     20.4671  20.9925       4.83062  89.2487    3.33391\n",
       "1       21.05  21.8224       4.59798  87.2351    3.79314\n",
       "2     21.6519  22.5919       4.30741  85.0656     4.2177\n",
       "3     22.2333   23.309        3.9861  82.9704    4.57772\n",
       "4     22.7693  23.9519       3.66665  81.0354    4.86512"
      ]
     },
     "execution_count": 16,
     "metadata": {},
     "output_type": "execute_result"
    }
   ],
   "source": [
    "cols = data.columns\n",
    "pred = pd.DataFrame(index=range(0,len(prediction)),columns=[cols])\n",
    "for j in range(0,5):\n",
    "    for i in range(0, len(prediction)):\n",
    "       pred.iloc[i][j] = prediction[i][j]\n",
    "pred.head()"
   ]
  },
  {
   "cell_type": "markdown",
   "metadata": {},
   "source": [
    "### Checking the RMSE(s)"
   ]
  },
  {
   "cell_type": "code",
   "execution_count": 17,
   "metadata": {},
   "outputs": [
    {
     "name": "stdout",
     "output_type": "stream",
     "text": [
      "RMSE value for Temperature =  3.379906774933022\n"
     ]
    }
   ],
   "source": [
    "print('RMSE value for Temperature = ', math.sqrt(mean_squared_error(valid.iloc[:, 0:1].values, pred.iloc[:, 0:1])))"
   ]
  },
  {
   "cell_type": "code",
   "execution_count": 18,
   "metadata": {},
   "outputs": [
    {
     "name": "stdout",
     "output_type": "stream",
     "text": [
      "RMSE value for Feels =  4.137149751737962\n"
     ]
    }
   ],
   "source": [
    "print('RMSE value for Feels = ', math.sqrt(mean_squared_error(valid.iloc[:, 1:2].values, pred.iloc[:, 1:2])))"
   ]
  },
  {
   "cell_type": "code",
   "execution_count": 19,
   "metadata": {},
   "outputs": [
    {
     "name": "stdout",
     "output_type": "stream",
     "text": [
      "RMSE value for Precipitation =  2.4427869808949456\n"
     ]
    }
   ],
   "source": [
    "print('RMSE value for Precipitation = ', math.sqrt(mean_squared_error(valid.iloc[:, 2:3].values, pred.iloc[:, 2:3])))"
   ]
  },
  {
   "cell_type": "code",
   "execution_count": 20,
   "metadata": {},
   "outputs": [
    {
     "name": "stdout",
     "output_type": "stream",
     "text": [
      "RMSE value for Humidity =  9.60090877267055\n"
     ]
    }
   ],
   "source": [
    "print('RMSE value for Humidity = ', math.sqrt(mean_squared_error(valid.iloc[:, 3:4].values, pred.iloc[:, 3:4])))"
   ]
  },
  {
   "cell_type": "code",
   "execution_count": 21,
   "metadata": {},
   "outputs": [
    {
     "name": "stdout",
     "output_type": "stream",
     "text": [
      "RMSE value for Wind Speed =  3.7708689423768575\n"
     ]
    }
   ],
   "source": [
    "print('RMSE value for Wind Speed = ', math.sqrt(mean_squared_error(valid.iloc[:, 4:5].values, pred.iloc[:, 4:5])))"
   ]
  },
  {
   "cell_type": "markdown",
   "metadata": {},
   "source": [
    "### Visually comparing Training and Validation Sets"
   ]
  },
  {
   "cell_type": "code",
   "execution_count": 22,
   "metadata": {},
   "outputs": [
    {
     "data": {
      "image/png": "[encoded data removed]",
      "text/plain": [
       "<Figure size 1152x576 with 1 Axes>"
      ]
     },
     "metadata": {
      "needs_background": "light"
     },
     "output_type": "display_data"
    }
   ],
   "source": [
    "train.iloc[:,0:5].astype(int).plot(figsize = (16, 8))\n",
    "plt.title('Training Set')\n",
    "plt.legend(loc = 'best')\n",
    "plt.show()"
   ]
  },
  {
   "cell_type": "code",
   "execution_count": 23,
   "metadata": {
    "scrolled": false
   },
   "outputs": [
    {
     "data": {
      "image/png": "[encoded data removed]",
      "text/plain": [
       "<Figure size 1152x576 with 1 Axes>"
      ]
     },
     "metadata": {
      "needs_background": "light"
     },
     "output_type": "display_data"
    }
   ],
   "source": [
    "valid.iloc[:,0:5].astype(int).plot(figsize = (16, 8))\n",
    "plt.title('Validation Set')\n",
    "plt.legend(loc = 'best')\n",
    "plt.show()"
   ]
  }
 ],
 "metadata": {
  "kernelspec": {
   "display_name": "Python 3",
   "language": "python",
   "name": "python3"
  },
  "language_info": {
   "codemirror_mode": {
    "name": "ipython",
    "version": 3
   },
   "file_extension": ".py",
   "mimetype": "text/x-python",
   "name": "python",
   "nbconvert_exporter": "python",
   "pygments_lexer": "ipython3",
   "version": "3.7.4"
  }
 },
 "nbformat": 4,
 "nbformat_minor": 2
}
